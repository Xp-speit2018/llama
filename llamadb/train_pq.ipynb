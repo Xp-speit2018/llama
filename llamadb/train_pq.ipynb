{
 "cells": [
  {
   "cell_type": "code",
   "execution_count": 1,
   "metadata": {},
   "outputs": [],
   "source": [
    "from faiss import IndexPQ, METRIC_INNER_PRODUCT, index_factory, write_index\n",
    "import numpy as np\n",
    "from typing import List, Tuple\n",
    "import json\n",
    "import itertools\n",
    "import tqdm"
   ]
  },
  {
   "cell_type": "code",
   "execution_count": 2,
   "metadata": {},
   "outputs": [],
   "source": [
    "class RecursiveNamespace:\n",
    "    def __init__(self):\n",
    "        self.__dict__['_attributes'] = {}\n",
    "\n",
    "    def __getattr__(self, name):\n",
    "        if name not in self._attributes:\n",
    "            self._attributes[name] = RecursiveNamespace()\n",
    "        return self._attributes[name]\n",
    "\n",
    "    def __setattr__(self, name, value):\n",
    "        if isinstance(value, RecursiveNamespace):\n",
    "            self._attributes[name] = value\n",
    "        else:\n",
    "            current = self\n",
    "            *parts, last = name.split('.')\n",
    "            for part in parts:\n",
    "                current = getattr(current, part)\n",
    "            current._attributes[last] = value\n",
    "\n",
    "    def __repr__(self):\n",
    "        return repr(self._attributes)\n",
    "    \n",
    "    @staticmethod\n",
    "    def from_dict(d):\n",
    "        ns = RecursiveNamespace()\n",
    "        for k, v in d.items():\n",
    "            if isinstance(v, dict):\n",
    "                ns._attributes[k] = RecursiveNamespace.from_dict(v)\n",
    "            else:\n",
    "                ns._attributes[k] = v\n",
    "        return ns\n",
    "    \n",
    "def read_fvecs(filename):\n",
    "    with open(filename, 'rb') as f:\n",
    "        vecs = []\n",
    "        while True:\n",
    "            data = f.read(4)\n",
    "            if len(data) < 4:\n",
    "                break\n",
    "            d = int.from_bytes(data, 'little')\n",
    "            vec = np.frombuffer(f.read(d * 4), dtype=np.float32)\n",
    "            vecs.append(vec)\n",
    "        return np.array(vecs)\n",
    "\n",
    "def write_fvecs(filename, vecs, mode='ab'):\n",
    "    with open(filename, mode) as f:\n",
    "        for vec in vecs:\n",
    "            d = len(vec)\n",
    "            f.write(np.int32(d).tobytes())\n",
    "            f.write(vec.astype(np.float32).tobytes())\n",
    "            \n",
    "def load_config(filePath):\n",
    "    '''\n",
    "    load configuration json to a RecursiveNamespace object\n",
    "    '''\n",
    "    with open(filePath, 'r') as f:\n",
    "        return RecursiveNamespace.from_dict(json.loads(f.read()))"
   ]
  },
  {
   "cell_type": "code",
   "execution_count": 3,
   "metadata": {},
   "outputs": [],
   "source": [
    "config = load_config('../llama-2-7b-hf/config.json')"
   ]
  },
  {
   "cell_type": "code",
   "execution_count": 4,
   "metadata": {},
   "outputs": [
    {
     "data": {
      "text/plain": [
       "32"
      ]
     },
     "execution_count": 4,
     "metadata": {},
     "output_type": "execute_result"
    }
   ],
   "source": [
    "config.num_hidden_layers"
   ]
  },
  {
   "cell_type": "code",
   "execution_count": 5,
   "metadata": {},
   "outputs": [
    {
     "name": "stderr",
     "output_type": "stream",
     "text": [
      "  1%|          | 7/1024 [06:01<14:34:36, 51.60s/it]\n"
     ]
    },
    {
     "ename": "KeyboardInterrupt",
     "evalue": "",
     "output_type": "error",
     "traceback": [
      "\u001b[0;31m---------------------------------------------------------------------------\u001b[0m",
      "\u001b[0;31mKeyboardInterrupt\u001b[0m                         Traceback (most recent call last)",
      "\u001b[0;32m/tmp/ipykernel_22898/3293548100.py\u001b[0m in \u001b[0;36m?\u001b[0;34m()\u001b[0m\n\u001b[1;32m      5\u001b[0m \u001b[0miter_comb\u001b[0m \u001b[0;34m=\u001b[0m \u001b[0mlist\u001b[0m\u001b[0;34m(\u001b[0m\u001b[0mitertools\u001b[0m\u001b[0;34m.\u001b[0m\u001b[0mproduct\u001b[0m\u001b[0;34m(\u001b[0m\u001b[0mrange\u001b[0m\u001b[0;34m(\u001b[0m\u001b[0mconfig\u001b[0m\u001b[0;34m.\u001b[0m\u001b[0mnum_hidden_layers\u001b[0m\u001b[0;34m)\u001b[0m\u001b[0;34m,\u001b[0m \u001b[0mrange\u001b[0m\u001b[0;34m(\u001b[0m\u001b[0mconfig\u001b[0m\u001b[0;34m.\u001b[0m\u001b[0mnum_attention_heads\u001b[0m\u001b[0;34m)\u001b[0m\u001b[0;34m)\u001b[0m\u001b[0;34m)\u001b[0m\u001b[0;34m\u001b[0m\u001b[0;34m\u001b[0m\u001b[0m\n\u001b[1;32m      6\u001b[0m \u001b[0;34m\u001b[0m\u001b[0m\n\u001b[1;32m      7\u001b[0m \u001b[0;32mfor\u001b[0m \u001b[0mi\u001b[0m\u001b[0;34m,\u001b[0m \u001b[0mj\u001b[0m \u001b[0;32min\u001b[0m \u001b[0mtqdm\u001b[0m\u001b[0;34m.\u001b[0m\u001b[0mtqdm\u001b[0m\u001b[0;34m(\u001b[0m\u001b[0miter_comb\u001b[0m\u001b[0;34m)\u001b[0m\u001b[0;34m:\u001b[0m\u001b[0;34m\u001b[0m\u001b[0;34m\u001b[0m\u001b[0m\n\u001b[1;32m      8\u001b[0m     \u001b[0mindex\u001b[0m \u001b[0;34m=\u001b[0m \u001b[0mindex_factory\u001b[0m\u001b[0;34m(\u001b[0m\u001b[0mdim\u001b[0m\u001b[0;34m,\u001b[0m \u001b[0;34mf'\u001b[0m\u001b[0;34mPQ\u001b[0m\u001b[0;34m{\u001b[0m\u001b[0mM\u001b[0m\u001b[0;34m}\u001b[0m\u001b[0;34mx\u001b[0m\u001b[0;34m{\u001b[0m\u001b[0mnbits\u001b[0m\u001b[0;34m}\u001b[0m\u001b[0;34m'\u001b[0m\u001b[0;34m,\u001b[0m \u001b[0mMETRIC_INNER_PRODUCT\u001b[0m\u001b[0;34m)\u001b[0m\u001b[0;34m\u001b[0m\u001b[0;34m\u001b[0m\u001b[0m\n\u001b[0;32m----> 9\u001b[0;31m     index.train(\n\u001b[0m\u001b[1;32m     10\u001b[0m         \u001b[0mread_fvecs\u001b[0m\u001b[0;34m(\u001b[0m\u001b[0;34mf'\u001b[0m\u001b[0;34m../llama_key/PTB/key_\u001b[0m\u001b[0;34m{\u001b[0m\u001b[0mi\u001b[0m\u001b[0;34m}\u001b[0m\u001b[0;34m_\u001b[0m\u001b[0;34m{\u001b[0m\u001b[0mj\u001b[0m\u001b[0;34m}\u001b[0m\u001b[0;34m.fvecs\u001b[0m\u001b[0;34m'\u001b[0m\u001b[0;34m)\u001b[0m\u001b[0;34m\u001b[0m\u001b[0;34m\u001b[0m\u001b[0m\n\u001b[1;32m     11\u001b[0m     \u001b[0;34m)\u001b[0m\u001b[0;34m\u001b[0m\u001b[0;34m\u001b[0m\u001b[0m\n\u001b[1;32m     12\u001b[0m     \u001b[0mivf\u001b[0m \u001b[0;34m=\u001b[0m \u001b[0mindex_factory\u001b[0m\u001b[0;34m(\u001b[0m\u001b[0mdim\u001b[0m\u001b[0;34m,\u001b[0m \u001b[0;34mf\"\u001b[0m\u001b[0;34mIVF1,PQ\u001b[0m\u001b[0;34m{\u001b[0m\u001b[0mM\u001b[0m\u001b[0;34m}\u001b[0m\u001b[0;34mx\u001b[0m\u001b[0;34m{\u001b[0m\u001b[0mnbits\u001b[0m\u001b[0;34m}\u001b[0m\u001b[0;34m\"\u001b[0m\u001b[0;34m,\u001b[0m \u001b[0mMETRIC_INNER_PRODUCT\u001b[0m\u001b[0;34m)\u001b[0m\u001b[0;34m\u001b[0m\u001b[0;34m\u001b[0m\u001b[0m\n",
      "\u001b[0;32m~/miniconda3/lib/python3.12/site-packages/faiss/class_wrappers.py\u001b[0m in \u001b[0;36m?\u001b[0;34m(self, x)\u001b[0m\n\u001b[1;32m    294\u001b[0m         \"\"\"\n\u001b[1;32m    295\u001b[0m         \u001b[0mn\u001b[0m\u001b[0;34m,\u001b[0m \u001b[0md\u001b[0m \u001b[0;34m=\u001b[0m \u001b[0mx\u001b[0m\u001b[0;34m.\u001b[0m\u001b[0mshape\u001b[0m\u001b[0;34m\u001b[0m\u001b[0;34m\u001b[0m\u001b[0m\n\u001b[1;32m    296\u001b[0m         \u001b[0;32massert\u001b[0m \u001b[0md\u001b[0m \u001b[0;34m==\u001b[0m \u001b[0mself\u001b[0m\u001b[0;34m.\u001b[0m\u001b[0md\u001b[0m\u001b[0;34m\u001b[0m\u001b[0;34m\u001b[0m\u001b[0m\n\u001b[1;32m    297\u001b[0m         \u001b[0mx\u001b[0m \u001b[0;34m=\u001b[0m \u001b[0mnp\u001b[0m\u001b[0;34m.\u001b[0m\u001b[0mascontiguousarray\u001b[0m\u001b[0;34m(\u001b[0m\u001b[0mx\u001b[0m\u001b[0;34m,\u001b[0m \u001b[0mdtype\u001b[0m\u001b[0;34m=\u001b[0m\u001b[0;34m'float32'\u001b[0m\u001b[0;34m)\u001b[0m\u001b[0;34m\u001b[0m\u001b[0;34m\u001b[0m\u001b[0m\n\u001b[0;32m--> 298\u001b[0;31m         \u001b[0mself\u001b[0m\u001b[0;34m.\u001b[0m\u001b[0mtrain_c\u001b[0m\u001b[0;34m(\u001b[0m\u001b[0mn\u001b[0m\u001b[0;34m,\u001b[0m \u001b[0mswig_ptr\u001b[0m\u001b[0;34m(\u001b[0m\u001b[0mx\u001b[0m\u001b[0;34m)\u001b[0m\u001b[0;34m)\u001b[0m\u001b[0;34m\u001b[0m\u001b[0;34m\u001b[0m\u001b[0m\n\u001b[0m",
      "\u001b[0;32m~/miniconda3/lib/python3.12/site-packages/faiss/swigfaiss_avx2.py\u001b[0m in \u001b[0;36m?\u001b[0;34m(self, n, x)\u001b[0m\n\u001b[1;32m   5065\u001b[0m     \u001b[0;32mdef\u001b[0m \u001b[0mtrain\u001b[0m\u001b[0;34m(\u001b[0m\u001b[0mself\u001b[0m\u001b[0;34m,\u001b[0m \u001b[0mn\u001b[0m\u001b[0;34m,\u001b[0m \u001b[0mx\u001b[0m\u001b[0;34m)\u001b[0m\u001b[0;34m:\u001b[0m\u001b[0;34m\u001b[0m\u001b[0;34m\u001b[0m\u001b[0m\n\u001b[0;32m-> 5066\u001b[0;31m         \u001b[0;32mreturn\u001b[0m \u001b[0m_swigfaiss_avx2\u001b[0m\u001b[0;34m.\u001b[0m\u001b[0mIndexPQ_train\u001b[0m\u001b[0;34m(\u001b[0m\u001b[0mself\u001b[0m\u001b[0;34m,\u001b[0m \u001b[0mn\u001b[0m\u001b[0;34m,\u001b[0m \u001b[0mx\u001b[0m\u001b[0;34m)\u001b[0m\u001b[0;34m\u001b[0m\u001b[0;34m\u001b[0m\u001b[0m\n\u001b[0m",
      "\u001b[0;31mKeyboardInterrupt\u001b[0m: "
     ]
    }
   ],
   "source": [
    "M = 16\n",
    "nbits = 10\n",
    "dim = int(config.hidden_size / config.num_attention_heads)\n",
    "\n",
    "iter_comb = list(itertools.product(range(config.num_hidden_layers), range(config.num_attention_heads)))\n",
    "\n",
    "for i, j in tqdm.tqdm(iter_comb):\n",
    "    index = index_factory(dim, f'PQ{M}x{nbits}', METRIC_INNER_PRODUCT)\n",
    "    index.train(\n",
    "        read_fvecs(f'../llama_key/PTB/key_{i}_{j}.fvecs')\n",
    "    )\n",
    "    ivf = index_factory(dim, f\"IVF1,PQ{M}x{nbits}\", METRIC_INNER_PRODUCT)\n",
    "    ivf.quantizer.add(np.zeros((1, dim)))\n",
    "    ivf.pq = index.pq\n",
    "    ivf.is_trained = True\n",
    "    write_index(ivf, f'../llama_pqindex/PTB/key_{i}_{j}.ivf')"
   ]
  },
  {
   "cell_type": "code",
   "execution_count": null,
   "metadata": {},
   "outputs": [],
   "source": []
  }
 ],
 "metadata": {
  "kernelspec": {
   "display_name": "base",
   "language": "python",
   "name": "python3"
  },
  "language_info": {
   "codemirror_mode": {
    "name": "ipython",
    "version": 3
   },
   "file_extension": ".py",
   "mimetype": "text/x-python",
   "name": "python",
   "nbconvert_exporter": "python",
   "pygments_lexer": "ipython3",
   "version": "3.12.2"
  }
 },
 "nbformat": 4,
 "nbformat_minor": 2
}
