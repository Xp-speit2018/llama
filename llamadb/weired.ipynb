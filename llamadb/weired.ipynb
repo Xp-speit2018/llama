{
 "cells": [
  {
   "cell_type": "code",
   "execution_count": 4,
   "metadata": {},
   "outputs": [],
   "source": [
    "import torch\n",
    "# k_cache_rerot_full_head, k_pq_rerot_full_head, transition_matrix = torch.load('weired.pt')\n",
    "cache, pq, t = torch.load('weired.pt')\n",
    "# Wq, Wk, Wv是nn.Linear的权重，默认是行优先的，需要转置\n",
    "cos, sin, Wq, Wk, Wv = torch.load('key2value_demo.pt')\n",
    "Wq = Wq.t()\n",
    "Wk = Wk.t()\n",
    "Wv = Wv.t()"
   ]
  },
  {
   "cell_type": "code",
   "execution_count": 7,
   "metadata": {},
   "outputs": [
    {
     "data": {
      "text/plain": [
       "tensor([[[-6.4526e-03, -5.8041e-03,  4.4708e-03,  ...,  2.3651e-03,\n",
       "          -1.3406e-03, -1.3504e-03],\n",
       "         [-3.5105e-03,  4.5776e-03,  3.1986e-03,  ...,  1.9531e-03,\n",
       "          -3.5448e-03,  3.7041e-03],\n",
       "         [-1.3981e-03, -2.5969e-03,  3.9558e-03,  ...,  1.0380e-02,\n",
       "          -3.4022e-03, -7.2212e-03],\n",
       "         ...,\n",
       "         [-2.5177e-04, -1.5545e-03,  6.1035e-03,  ..., -6.6376e-04,\n",
       "          -2.0485e-03, -7.7438e-03],\n",
       "         [-4.3335e-03,  1.4801e-03,  1.3733e-04,  ..., -1.7204e-03,\n",
       "          -3.3798e-03, -1.2054e-03],\n",
       "         [-4.7226e-03,  1.4343e-03,  7.6294e-06,  ..., -1.6727e-03,\n",
       "          -3.4981e-03, -1.0529e-03]]], grad_fn=<UnsafeViewBackward0>)"
      ]
     },
     "execution_count": 7,
     "metadata": {},
     "output_type": "execute_result"
    }
   ],
   "source": [
    "cache @ t"
   ]
  },
  {
   "cell_type": "code",
   "execution_count": 8,
   "metadata": {},
   "outputs": [
    {
     "data": {
      "text/plain": [
       "tensor([[[-114.4782,  493.5642, -725.9133,  ...,  302.3686,  161.1347,\n",
       "           509.1550],\n",
       "         [ -43.6277,   99.5326, -133.6072,  ...,   50.2764,  -40.7482,\n",
       "            61.4035],\n",
       "         [  39.1854,   -9.2132,   53.4964,  ...,  -65.8190,   83.7207,\n",
       "           -28.6355],\n",
       "         ...,\n",
       "         [  56.7768, -114.6841,  251.9506,  ...,  -87.9416,   36.7301,\n",
       "           -57.2058],\n",
       "         [ 100.5965,  259.2397,   33.8188,  ...,   49.7714,  -44.4453,\n",
       "          -118.1402],\n",
       "         [-108.6643,   94.5805, -385.1761,  ...,   90.0119, -126.3285,\n",
       "           241.8629]]], grad_fn=<UnsafeViewBackward0>)"
      ]
     },
     "execution_count": 8,
     "metadata": {},
     "output_type": "execute_result"
    }
   ],
   "source": [
    "pq @ t"
   ]
  },
  {
   "cell_type": "code",
   "execution_count": 15,
   "metadata": {},
   "outputs": [
    {
     "data": {
      "text/plain": [
       "tensor([[[ -16.6783,   -7.6488,  -34.6806,  ...,   13.6385,   18.9476,\n",
       "           -12.4943],\n",
       "         [  88.1058,  -30.0762,  180.1145,  ...,   -2.5293,   75.6651,\n",
       "          -117.8431],\n",
       "         [ -42.9889,   80.9680,  -38.6144,  ...,    9.9168,  -42.6071,\n",
       "             7.4013],\n",
       "         ...,\n",
       "         [ -58.0422,  101.2859, -119.9466,  ...,   33.7359,    0.7631,\n",
       "            72.5412],\n",
       "         [  47.9683,  101.4581,   64.3179,  ...,   -2.1191,   57.5069,\n",
       "          -116.0567],\n",
       "         [  -1.3003,  -39.0912,  -34.1091,  ...,   -7.2976,   55.5183,\n",
       "            30.4483]]], grad_fn=<UnsafeViewBackward0>)"
      ]
     },
     "execution_count": 15,
     "metadata": {},
     "output_type": "execute_result"
    }
   ],
   "source": [
    "std = 0.05\n",
    "(cache + torch.randn_like(cache) * std ) @ t"
   ]
  },
  {
   "cell_type": "code",
   "execution_count": 16,
   "metadata": {},
   "outputs": [
    {
     "data": {
      "text/plain": [
       "tensor([[[-0.4510, -0.0164,  0.0498,  ...,  0.7097,  0.2183,  0.2774],\n",
       "         [-0.2485, -0.1042,  0.3695,  ..., -0.0396,  0.1975,  0.0857],\n",
       "         [ 0.0981, -0.3935,  0.3431,  ...,  0.2286, -0.3651,  0.0907],\n",
       "         ...,\n",
       "         [ 0.1505, -0.3142,  0.4357,  ...,  1.2964, -0.8541,  0.3247],\n",
       "         [-0.3423,  0.0924, -0.2287,  ..., -1.2531,  0.0077,  1.6688],\n",
       "         [-0.3423,  0.0924, -0.2287,  ..., -1.2531,  0.0077,  1.6688]]])"
      ]
     },
     "execution_count": 16,
     "metadata": {},
     "output_type": "execute_result"
    }
   ],
   "source": [
    "cache"
   ]
  },
  {
   "cell_type": "code",
   "execution_count": null,
   "metadata": {},
   "outputs": [],
   "source": []
  }
 ],
 "metadata": {
  "kernelspec": {
   "display_name": "Python 3",
   "language": "python",
   "name": "python3"
  },
  "language_info": {
   "codemirror_mode": {
    "name": "ipython",
    "version": 3
   },
   "file_extension": ".py",
   "mimetype": "text/x-python",
   "name": "python",
   "nbconvert_exporter": "python",
   "pygments_lexer": "ipython3",
   "version": "3.8.10"
  }
 },
 "nbformat": 4,
 "nbformat_minor": 2
}
