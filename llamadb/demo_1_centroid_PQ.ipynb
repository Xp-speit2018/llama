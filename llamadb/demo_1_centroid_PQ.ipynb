{
 "cells": [
  {
   "cell_type": "code",
   "execution_count": 22,
   "id": "4c0ca46e",
   "metadata": {},
   "outputs": [],
   "source": [
    "import numpy as np\n",
    "import faiss\n",
    "from faiss.contrib.datasets import SyntheticDataset"
   ]
  },
  {
   "cell_type": "markdown",
   "id": "04502b90",
   "metadata": {},
   "source": [
    "This script shows how to simulate an IndexPQ on a GPU with a 1-centroid IVFPQ."
   ]
  },
  {
   "cell_type": "code",
   "execution_count": 23,
   "id": "389af11d",
   "metadata": {},
   "outputs": [],
   "source": [
    "ds = SyntheticDataset(64, 10000, 5000, 1000) # 64-d vectors, 10k train, 5k queries, 1k ground truth"
   ]
  },
  {
   "cell_type": "code",
   "execution_count": 24,
   "id": "fa47b9a9",
   "metadata": {},
   "outputs": [],
   "source": [
    "index_cpu = faiss.index_factory(ds.d, \"OPQ8,PQ4x8np\")"
   ]
  },
  {
   "cell_type": "code",
   "execution_count": 25,
   "id": "6a2ed488",
   "metadata": {},
   "outputs": [
    {
     "data": {
      "text/plain": [
       "<faiss.swigfaiss_avx2.IndexPreTransform; proxy of <Swig Object of type 'faiss::IndexPreTransform *' at 0x7efc324e9470> >"
      ]
     },
     "execution_count": 25,
     "metadata": {},
     "output_type": "execute_result"
    }
   ],
   "source": [
    "index_cpu"
   ]
  },
  {
   "cell_type": "code",
   "execution_count": 26,
   "id": "d5061ffa",
   "metadata": {},
   "outputs": [
    {
     "data": {
      "text/plain": [
       "<faiss.swigfaiss_avx2.VectorTransform; proxy of <Swig Object of type 'faiss::VectorTransform *' at 0x7efc3253c4b0> >"
      ]
     },
     "execution_count": 26,
     "metadata": {},
     "output_type": "execute_result"
    }
   ],
   "source": [
    "index_cpu.chain.at(0)"
   ]
  },
  {
   "cell_type": "code",
   "execution_count": 27,
   "id": "8ad88095",
   "metadata": {},
   "outputs": [
    {
     "data": {
      "text/plain": [
       "<faiss.swigfaiss_avx2.Index; proxy of <Swig Object of type 'faiss::Index *' at 0x7efc3253d830> >"
      ]
     },
     "execution_count": 27,
     "metadata": {},
     "output_type": "execute_result"
    }
   ],
   "source": [
    "index_cpu.index"
   ]
  },
  {
   "cell_type": "code",
   "execution_count": 28,
   "id": "3c613faa",
   "metadata": {},
   "outputs": [
    {
     "data": {
      "text/plain": [
       "<faiss.swigfaiss_avx2.IndexPQ; proxy of <Swig Object of type 'faiss::IndexPQ *' at 0x7efc3253dbf0> >"
      ]
     },
     "execution_count": 28,
     "metadata": {},
     "output_type": "execute_result"
    }
   ],
   "source": [
    "faiss.downcast_index(index_cpu.index)"
   ]
  },
  {
   "cell_type": "code",
   "execution_count": 29,
   "id": "c62460f5",
   "metadata": {},
   "outputs": [],
   "source": [
    "idx = faiss.index_factory(ds.d, \"IVF4096,PQ4x8np\")"
   ]
  },
  {
   "cell_type": "code",
   "execution_count": 30,
   "id": "f9a918ce",
   "metadata": {},
   "outputs": [
    {
     "data": {
      "text/plain": [
       "<faiss.swigfaiss_avx2.IndexIVFPQ; proxy of <Swig Object of type 'faiss::IndexIVFPQ *' at 0x7efc9e495ef0> >"
      ]
     },
     "execution_count": 30,
     "metadata": {},
     "output_type": "execute_result"
    }
   ],
   "source": [
    "idx"
   ]
  },
  {
   "cell_type": "code",
   "execution_count": 31,
   "id": "9c99581c",
   "metadata": {},
   "outputs": [],
   "source": [
    "index_cpu.train(ds.get_train())"
   ]
  },
  {
   "cell_type": "code",
   "execution_count": 32,
   "id": "eae705c7",
   "metadata": {},
   "outputs": [],
   "source": [
    "index_cpu.add(ds.get_database())"
   ]
  },
  {
   "cell_type": "code",
   "execution_count": 33,
   "id": "05aca297",
   "metadata": {},
   "outputs": [
    {
     "name": "stdout",
     "output_type": "stream",
     "text": [
      "CPU times: user 1.04 s, sys: 22.6 ms, total: 1.07 s\n",
      "Wall time: 8.96 ms\n",
      "Parser   : 135 ms\n"
     ]
    }
   ],
   "source": [
    "%%time\n",
    "Dref, Iref = index_cpu.search(ds.get_queries(), 10)"
   ]
  },
  {
   "cell_type": "markdown",
   "id": "ce946e20",
   "metadata": {},
   "source": [
    "# Copy to IVF index"
   ]
  },
  {
   "cell_type": "code",
   "execution_count": 34,
   "id": "633ffd88",
   "metadata": {},
   "outputs": [],
   "source": [
    "index_pq = faiss.downcast_index(index_cpu.index)\n",
    "index_to_translate = faiss.index_factory(index_pq.d, \"IVF1,PQ4x8\") #IndexPQ(dim, M, nbits, METRIC_INNER_PRODUCT) with M=4, nbits=8\n",
    "index_to_translate.quantizer.add(np.zeros((1, index_pq.d)))\n",
    "index_to_translate.pq = index_pq.pq\n",
    "index_to_translate.is_trained = True"
   ]
  },
  {
   "cell_type": "code",
   "execution_count": 35,
   "id": "adb1e928",
   "metadata": {},
   "outputs": [],
   "source": [
    "index_with_transform = faiss.IndexPreTransform(index_cpu.chain.at(0), index_to_translate)\n",
    "index_with_transform.add(ds.get_database())  # this is not necessary, only for testing "
   ]
  },
  {
   "cell_type": "code",
   "execution_count": 36,
   "id": "06703d35",
   "metadata": {},
   "outputs": [
    {
     "data": {
      "text/plain": [
       "<faiss.swigfaiss_avx2.Index; proxy of <Swig Object of type 'faiss::Index *' at 0x7efc3253de90> >"
      ]
     },
     "execution_count": 36,
     "metadata": {},
     "output_type": "execute_result"
    }
   ],
   "source": [
    "index_cpu.index"
   ]
  },
  {
   "cell_type": "code",
   "execution_count": 37,
   "id": "626b5520",
   "metadata": {},
   "outputs": [
    {
     "data": {
      "text/plain": [
       "<faiss.swigfaiss_avx2.IndexIVFPQ; proxy of <Swig Object of type 'faiss::IndexIVFPQ *' at 0x7efc8c1d6b80> >"
      ]
     },
     "execution_count": 37,
     "metadata": {},
     "output_type": "execute_result"
    }
   ],
   "source": [
    "index_to_translate"
   ]
  },
  {
   "cell_type": "code",
   "execution_count": null,
   "id": "775f1d08",
   "metadata": {},
   "outputs": [],
   "source": []
  },
  {
   "cell_type": "code",
   "execution_count": 38,
   "id": "0018838b",
   "metadata": {},
   "outputs": [
    {
     "name": "stdout",
     "output_type": "stream",
     "text": [
      "CPU times: user 2.2 s, sys: 109 ms, total: 2.31 s\n",
      "Wall time: 22.5 ms\n"
     ]
    }
   ],
   "source": [
    "%%time\n",
    "D2, I2 = index_with_transform.search(ds.get_queries(), 10)"
   ]
  },
  {
   "cell_type": "code",
   "execution_count": 39,
   "id": "4c8dcd79",
   "metadata": {},
   "outputs": [],
   "source": [
    "np.testing.assert_array_equal(I2, Iref)"
   ]
  },
  {
   "cell_type": "code",
   "execution_count": 40,
   "id": "f3d46ff3",
   "metadata": {},
   "outputs": [],
   "source": [
    "index_with_transform.reset()"
   ]
  },
  {
   "cell_type": "markdown",
   "id": "66de937f",
   "metadata": {},
   "source": [
    "# Copy to GPU index"
   ]
  },
  {
   "cell_type": "code",
   "execution_count": null,
   "id": "0135899e",
   "metadata": {},
   "outputs": [],
   "source": [
    "#"
   ]
  },
  {
   "cell_type": "code",
   "execution_count": 41,
   "id": "a9f33157",
   "metadata": {},
   "outputs": [],
   "source": [
    "res = faiss.StandardGpuResources()"
   ]
  },
  {
   "cell_type": "code",
   "execution_count": 42,
   "id": "1738655a",
   "metadata": {},
   "outputs": [],
   "source": [
    "index_gpu = faiss.index_cpu_to_gpu(res, 0, index_to_translate)"
   ]
  },
  {
   "cell_type": "code",
   "execution_count": 43,
   "id": "4cb64480",
   "metadata": {},
   "outputs": [],
   "source": [
    "index_gpu_with_transform = faiss.IndexPreTransform(index_cpu.chain.at(0), index_gpu)"
   ]
  },
  {
   "cell_type": "code",
   "execution_count": 47,
   "id": "725f5add",
   "metadata": {},
   "outputs": [
    {
     "data": {
      "text/plain": [
       "<faiss.swigfaiss_avx2.VectorTransform; proxy of <Swig Object of type 'faiss::VectorTransform *' at 0x7efc32427750> >"
      ]
     },
     "execution_count": 47,
     "metadata": {},
     "output_type": "execute_result"
    }
   ],
   "source": [
    "index_gpu_with_transform.chain.at(0)"
   ]
  },
  {
   "cell_type": "code",
   "execution_count": 49,
   "id": "63f10384",
   "metadata": {},
   "outputs": [
    {
     "data": {
      "text/plain": [
       "<faiss.swigfaiss_avx2.GpuIndexIVFPQ; proxy of <Swig Object of type 'faiss::gpu::GpuIndexIVFPQ *' at 0x7efc32427090> >"
      ]
     },
     "execution_count": 49,
     "metadata": {},
     "output_type": "execute_result"
    }
   ],
   "source": [
    "faiss.downcast_index(index_gpu_with_transform.index)"
   ]
  },
  {
   "cell_type": "code",
   "execution_count": null,
   "id": "620ceedc",
   "metadata": {},
   "outputs": [],
   "source": []
  },
  {
   "cell_type": "code",
   "execution_count": null,
   "id": "415b64a8",
   "metadata": {},
   "outputs": [],
   "source": []
  },
  {
   "cell_type": "code",
   "execution_count": 44,
   "id": "60bea27a",
   "metadata": {},
   "outputs": [],
   "source": [
    "index_gpu_with_transform.add(ds.get_database())"
   ]
  },
  {
   "cell_type": "code",
   "execution_count": 50,
   "id": "6c6152cd",
   "metadata": {},
   "outputs": [],
   "source": [
    "n = 0\n",
    "while n < 100000:\n",
    "    D3, I3 = index_gpu_with_transform.search(ds.get_queries(), 10)\n",
    "    n += 1"
   ]
  },
  {
   "cell_type": "code",
   "execution_count": 46,
   "id": "0ba068f0",
   "metadata": {},
   "outputs": [
    {
     "ename": "AssertionError",
     "evalue": "\nArrays are not equal\n\nMismatched elements: 4 / 10000 (0.04%)\nMax absolute difference: 4088\nMax relative difference: 10.50899743\n x: array([[1985, 2261, 1879, ..., 3369, 4329, 1409],\n       [3937, 1765, 4759, ...,  443, 1996, 2927],\n       [3108, 1395,  525, ...,  934, 4571,  125],...\n y: array([[1985, 2261, 1879, ..., 3369, 4329, 1409],\n       [3937, 1765, 4759, ...,  443, 1996, 2927],\n       [3108, 1395,  525, ...,  934, 4571,  125],...",
     "output_type": "error",
     "traceback": [
      "\u001b[0;31m---------------------------------------------------------------------------\u001b[0m",
      "\u001b[0;31mAssertionError\u001b[0m                            Traceback (most recent call last)",
      "Cell \u001b[0;32mIn[46], line 1\u001b[0m\n\u001b[0;32m----> 1\u001b[0m \u001b[43mnp\u001b[49m\u001b[38;5;241;43m.\u001b[39;49m\u001b[43mtesting\u001b[49m\u001b[38;5;241;43m.\u001b[39;49m\u001b[43massert_array_equal\u001b[49m\u001b[43m(\u001b[49m\u001b[43mI3\u001b[49m\u001b[43m,\u001b[49m\u001b[43m \u001b[49m\u001b[43mIref\u001b[49m\u001b[43m)\u001b[49m\n",
      "    \u001b[0;31m[... skipping hidden 1 frame]\u001b[0m\n",
      "File \u001b[0;32m/home/wzw/miniconda3/lib/python3.12/contextlib.py:81\u001b[0m, in \u001b[0;36mContextDecorator.__call__.<locals>.inner\u001b[0;34m(*args, **kwds)\u001b[0m\n\u001b[1;32m     78\u001b[0m \u001b[38;5;129m@wraps\u001b[39m(func)\n\u001b[1;32m     79\u001b[0m \u001b[38;5;28;01mdef\u001b[39;00m \u001b[38;5;21minner\u001b[39m(\u001b[38;5;241m*\u001b[39margs, \u001b[38;5;241m*\u001b[39m\u001b[38;5;241m*\u001b[39mkwds):\n\u001b[1;32m     80\u001b[0m     \u001b[38;5;28;01mwith\u001b[39;00m \u001b[38;5;28mself\u001b[39m\u001b[38;5;241m.\u001b[39m_recreate_cm():\n\u001b[0;32m---> 81\u001b[0m         \u001b[38;5;28;01mreturn\u001b[39;00m \u001b[43mfunc\u001b[49m\u001b[43m(\u001b[49m\u001b[38;5;241;43m*\u001b[39;49m\u001b[43margs\u001b[49m\u001b[43m,\u001b[49m\u001b[43m \u001b[49m\u001b[38;5;241;43m*\u001b[39;49m\u001b[38;5;241;43m*\u001b[39;49m\u001b[43mkwds\u001b[49m\u001b[43m)\u001b[49m\n",
      "File \u001b[0;32m/home/wzw/miniconda3/lib/python3.12/site-packages/numpy/testing/_private/utils.py:797\u001b[0m, in \u001b[0;36massert_array_compare\u001b[0;34m(comparison, x, y, err_msg, verbose, header, precision, equal_nan, equal_inf, strict)\u001b[0m\n\u001b[1;32m    793\u001b[0m         err_msg \u001b[38;5;241m+\u001b[39m\u001b[38;5;241m=\u001b[39m \u001b[38;5;124m'\u001b[39m\u001b[38;5;130;01m\\n\u001b[39;00m\u001b[38;5;124m'\u001b[39m \u001b[38;5;241m+\u001b[39m \u001b[38;5;124m'\u001b[39m\u001b[38;5;130;01m\\n\u001b[39;00m\u001b[38;5;124m'\u001b[39m\u001b[38;5;241m.\u001b[39mjoin(remarks)\n\u001b[1;32m    794\u001b[0m         msg \u001b[38;5;241m=\u001b[39m build_err_msg([ox, oy], err_msg,\n\u001b[1;32m    795\u001b[0m                             verbose\u001b[38;5;241m=\u001b[39mverbose, header\u001b[38;5;241m=\u001b[39mheader,\n\u001b[1;32m    796\u001b[0m                             names\u001b[38;5;241m=\u001b[39m(\u001b[38;5;124m'\u001b[39m\u001b[38;5;124mx\u001b[39m\u001b[38;5;124m'\u001b[39m, \u001b[38;5;124m'\u001b[39m\u001b[38;5;124my\u001b[39m\u001b[38;5;124m'\u001b[39m), precision\u001b[38;5;241m=\u001b[39mprecision)\n\u001b[0;32m--> 797\u001b[0m         \u001b[38;5;28;01mraise\u001b[39;00m \u001b[38;5;167;01mAssertionError\u001b[39;00m(msg)\n\u001b[1;32m    798\u001b[0m \u001b[38;5;28;01mexcept\u001b[39;00m \u001b[38;5;167;01mValueError\u001b[39;00m:\n\u001b[1;32m    799\u001b[0m     \u001b[38;5;28;01mimport\u001b[39;00m \u001b[38;5;21;01mtraceback\u001b[39;00m\n",
      "\u001b[0;31mAssertionError\u001b[0m: \nArrays are not equal\n\nMismatched elements: 4 / 10000 (0.04%)\nMax absolute difference: 4088\nMax relative difference: 10.50899743\n x: array([[1985, 2261, 1879, ..., 3369, 4329, 1409],\n       [3937, 1765, 4759, ...,  443, 1996, 2927],\n       [3108, 1395,  525, ...,  934, 4571,  125],...\n y: array([[1985, 2261, 1879, ..., 3369, 4329, 1409],\n       [3937, 1765, 4759, ...,  443, 1996, 2927],\n       [3108, 1395,  525, ...,  934, 4571,  125],..."
     ]
    }
   ],
   "source": [
    "np.testing.assert_array_equal(I3, Iref)"
   ]
  },
  {
   "cell_type": "code",
   "execution_count": null,
   "id": "ac812e36",
   "metadata": {},
   "outputs": [],
   "source": []
  },
  {
   "cell_type": "markdown",
   "id": "47fafc42",
   "metadata": {},
   "source": [
    "# Without OPQ"
   ]
  },
  {
   "cell_type": "code",
   "execution_count": 51,
   "id": "45590f1d",
   "metadata": {},
   "outputs": [],
   "source": [
    "import numpy as np\n",
    "import faiss\n",
    "from faiss.contrib.datasets import SyntheticDataset\n",
    "\n",
    "ds = SyntheticDataset(64, 10000, 5000, 1000) # 64-d vectors, 10k train, 5k queries, 1k ground truth"
   ]
  },
  {
   "cell_type": "code",
   "execution_count": 62,
   "id": "364dcc26",
   "metadata": {},
   "outputs": [],
   "source": [
    "M = 4\n",
    "nbits = 8\n",
    "\n",
    "index_cpu = faiss.index_factory(ds.d, f\"PQ{M}x{nbits}\", faiss.METRIC_INNER_PRODUCT)\n",
    "index_cpu.train(ds.get_train())\n",
    "\n",
    "# copy to ivf\n",
    "index_ivf = faiss.index_factory(index_cpu.d, f\"IVF1,PQ{M}x{nbits}\", faiss.METRIC_INNER_PRODUCT)\n",
    "index_ivf.quantizer.add(np.zeros((1, index_pq.d)))\n",
    "index_ivf.pq = index_cpu.pq\n",
    "index_ivf.is_trained = True"
   ]
  },
  {
   "cell_type": "code",
   "execution_count": 63,
   "id": "98413fcd",
   "metadata": {},
   "outputs": [],
   "source": [
    "# copy to gpu\n",
    "res = faiss.StandardGpuResources()\n",
    "index_ivf_gpu = faiss.index_cpu_to_gpu(res, 0, index_ivf)"
   ]
  },
  {
   "cell_type": "code",
   "execution_count": 64,
   "id": "693d06b4",
   "metadata": {},
   "outputs": [],
   "source": [
    "# compare\n",
    "index_cpu.add(ds.get_database())\n",
    "index_ivf.add(ds.get_database())\n",
    "index_ivf_gpu.add(ds.get_database())\n",
    "\n",
    "D1, I1 = index_cpu.search(ds.get_queries(), 10)\n",
    "D2, I2 = index_ivf.search(ds.get_queries(), 10)\n",
    "D3, I3 = index_ivf_gpu.search(ds.get_queries(), 10)"
   ]
  },
  {
   "cell_type": "code",
   "execution_count": 65,
   "id": "68caf98b",
   "metadata": {},
   "outputs": [
    {
     "ename": "AssertionError",
     "evalue": "\nArrays are not equal\n\nMismatched elements: 4527 / 10000 (45.3%)\nMax absolute difference: 2.861023e-06\nMax relative difference: 2.3387753e-07\n x: array([[11.379868, 10.36752 , 10.255153, ...,  9.338544,  9.169638,\n         9.015741],\n       [10.261639,  9.711093,  9.247979, ...,  8.732635,  8.291955,...\n y: array([[11.379868, 10.367521, 10.255154, ...,  9.338543,  9.169637,\n         9.015741],\n       [10.261639,  9.711092,  9.24798 , ...,  8.732635,  8.291955,...",
     "output_type": "error",
     "traceback": [
      "\u001b[0;31m---------------------------------------------------------------------------\u001b[0m",
      "\u001b[0;31mAssertionError\u001b[0m                            Traceback (most recent call last)",
      "Cell \u001b[0;32mIn[65], line 1\u001b[0m\n\u001b[0;32m----> 1\u001b[0m \u001b[43mnp\u001b[49m\u001b[38;5;241;43m.\u001b[39;49m\u001b[43mtesting\u001b[49m\u001b[38;5;241;43m.\u001b[39;49m\u001b[43massert_array_equal\u001b[49m\u001b[43m(\u001b[49m\u001b[43mD1\u001b[49m\u001b[43m,\u001b[49m\u001b[43m \u001b[49m\u001b[43mD2\u001b[49m\u001b[43m)\u001b[49m\n",
      "    \u001b[0;31m[... skipping hidden 1 frame]\u001b[0m\n",
      "File \u001b[0;32m/home/wzw/miniconda3/lib/python3.12/contextlib.py:81\u001b[0m, in \u001b[0;36mContextDecorator.__call__.<locals>.inner\u001b[0;34m(*args, **kwds)\u001b[0m\n\u001b[1;32m     78\u001b[0m \u001b[38;5;129m@wraps\u001b[39m(func)\n\u001b[1;32m     79\u001b[0m \u001b[38;5;28;01mdef\u001b[39;00m \u001b[38;5;21minner\u001b[39m(\u001b[38;5;241m*\u001b[39margs, \u001b[38;5;241m*\u001b[39m\u001b[38;5;241m*\u001b[39mkwds):\n\u001b[1;32m     80\u001b[0m     \u001b[38;5;28;01mwith\u001b[39;00m \u001b[38;5;28mself\u001b[39m\u001b[38;5;241m.\u001b[39m_recreate_cm():\n\u001b[0;32m---> 81\u001b[0m         \u001b[38;5;28;01mreturn\u001b[39;00m \u001b[43mfunc\u001b[49m\u001b[43m(\u001b[49m\u001b[38;5;241;43m*\u001b[39;49m\u001b[43margs\u001b[49m\u001b[43m,\u001b[49m\u001b[43m \u001b[49m\u001b[38;5;241;43m*\u001b[39;49m\u001b[38;5;241;43m*\u001b[39;49m\u001b[43mkwds\u001b[49m\u001b[43m)\u001b[49m\n",
      "File \u001b[0;32m/home/wzw/miniconda3/lib/python3.12/site-packages/numpy/testing/_private/utils.py:797\u001b[0m, in \u001b[0;36massert_array_compare\u001b[0;34m(comparison, x, y, err_msg, verbose, header, precision, equal_nan, equal_inf, strict)\u001b[0m\n\u001b[1;32m    793\u001b[0m         err_msg \u001b[38;5;241m+\u001b[39m\u001b[38;5;241m=\u001b[39m \u001b[38;5;124m'\u001b[39m\u001b[38;5;130;01m\\n\u001b[39;00m\u001b[38;5;124m'\u001b[39m \u001b[38;5;241m+\u001b[39m \u001b[38;5;124m'\u001b[39m\u001b[38;5;130;01m\\n\u001b[39;00m\u001b[38;5;124m'\u001b[39m\u001b[38;5;241m.\u001b[39mjoin(remarks)\n\u001b[1;32m    794\u001b[0m         msg \u001b[38;5;241m=\u001b[39m build_err_msg([ox, oy], err_msg,\n\u001b[1;32m    795\u001b[0m                             verbose\u001b[38;5;241m=\u001b[39mverbose, header\u001b[38;5;241m=\u001b[39mheader,\n\u001b[1;32m    796\u001b[0m                             names\u001b[38;5;241m=\u001b[39m(\u001b[38;5;124m'\u001b[39m\u001b[38;5;124mx\u001b[39m\u001b[38;5;124m'\u001b[39m, \u001b[38;5;124m'\u001b[39m\u001b[38;5;124my\u001b[39m\u001b[38;5;124m'\u001b[39m), precision\u001b[38;5;241m=\u001b[39mprecision)\n\u001b[0;32m--> 797\u001b[0m         \u001b[38;5;28;01mraise\u001b[39;00m \u001b[38;5;167;01mAssertionError\u001b[39;00m(msg)\n\u001b[1;32m    798\u001b[0m \u001b[38;5;28;01mexcept\u001b[39;00m \u001b[38;5;167;01mValueError\u001b[39;00m:\n\u001b[1;32m    799\u001b[0m     \u001b[38;5;28;01mimport\u001b[39;00m \u001b[38;5;21;01mtraceback\u001b[39;00m\n",
      "\u001b[0;31mAssertionError\u001b[0m: \nArrays are not equal\n\nMismatched elements: 4527 / 10000 (45.3%)\nMax absolute difference: 2.861023e-06\nMax relative difference: 2.3387753e-07\n x: array([[11.379868, 10.36752 , 10.255153, ...,  9.338544,  9.169638,\n         9.015741],\n       [10.261639,  9.711093,  9.247979, ...,  8.732635,  8.291955,...\n y: array([[11.379868, 10.367521, 10.255154, ...,  9.338543,  9.169637,\n         9.015741],\n       [10.261639,  9.711092,  9.24798 , ...,  8.732635,  8.291955,..."
     ]
    }
   ],
   "source": [
    "np.testing.assert_array_equal(D1, D2)"
   ]
  },
  {
   "cell_type": "code",
   "execution_count": 66,
   "id": "017491df",
   "metadata": {},
   "outputs": [],
   "source": [
    "np.testing.assert_array_equal(D1, D3)"
   ]
  },
  {
   "cell_type": "code",
   "execution_count": 61,
   "id": "eb39596e",
   "metadata": {},
   "outputs": [],
   "source": [
    "# assertion fails because of floating point errors"
   ]
  },
  {
   "cell_type": "code",
   "execution_count": null,
   "id": "aa9093b2",
   "metadata": {},
   "outputs": [],
   "source": []
  }
 ],
 "metadata": {
  "kernelspec": {
   "display_name": "Python 3 (ipykernel)",
   "language": "python",
   "name": "python3"
  },
  "language_info": {
   "codemirror_mode": {
    "name": "ipython",
    "version": 3
   },
   "file_extension": ".py",
   "mimetype": "text/x-python",
   "name": "python",
   "nbconvert_exporter": "python",
   "pygments_lexer": "ipython3",
   "version": "3.12.2"
  }
 },
 "nbformat": 4,
 "nbformat_minor": 5
}
