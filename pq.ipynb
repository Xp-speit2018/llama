{
 "cells": [
  {
   "cell_type": "markdown",
   "metadata": {},
   "source": [
    "# Dist Env Init  "
   ]
  },
  {
   "cell_type": "code",
   "execution_count": 1,
   "metadata": {},
   "outputs": [
    {
     "name": "stdout",
     "output_type": "stream",
     "text": [
      "> initializing model parallel with size 1\n",
      "> initializing ddp with size 1\n",
      "> initializing pipeline with size 1\n"
     ]
    }
   ],
   "source": [
    "import os\n",
    "import torch\n",
    "import torch.distributed\n",
    "from fairscale.nn.model_parallel.initialize import (\n",
    "    get_model_parallel_rank,\n",
    "    initialize_model_parallel,\n",
    "    model_parallel_is_initialized,\n",
    ")\n",
    "\n",
    "world_size = 1\n",
    "\n",
    "os.environ['MASTER_ADDR'] = 'localhost'\n",
    "os.environ['MASTER_PORT'] = '32355'\n",
    "os.environ[\"CUDA_VISIBLE_DEVICES\"] = \"6,7\"\n",
    "torch.distributed.init_process_group(backend='nccl', init_method='env://', rank = 0, world_size = world_size)\n",
    "initialize_model_parallel(world_size)"
   ]
  },
  {
   "cell_type": "code",
   "execution_count": 2,
   "metadata": {},
   "outputs": [],
   "source": [
    "# from llama import Llama, Dialog\n",
    "# from typing import List, Optional\n",
    "\n",
    "# llama = Llama.build(\n",
    "#     ckpt_dir = \"llama-2-7b\",\n",
    "#     tokenizer_path = \"tokenizer.model\",\n",
    "#     max_seq_len = 1024,\n",
    "#     max_batch_size =  6,\n",
    "#     model_parallel_size =  1\n",
    "# )\n",
    "\n",
    "# dialogs: List[Dialog] = [\n",
    "#         [{\"role\": \"user\", \"content\": \"what is the recipe of mayonnaise?\"}],\n",
    "#         [\n",
    "#             {\"role\": \"user\", \"content\": \"I am going to Paris, what should I see?\"},\n",
    "#             {\n",
    "#                 \"role\": \"assistant\",\n",
    "#                 \"content\": \"\"\"\\\n",
    "# Paris, the capital of France, is known for its stunning architecture, art museums, historical landmarks, and romantic atmosphere. Here are some of the top attractions to see in Paris:\n",
    "\n",
    "# 1. The Eiffel Tower: The iconic Eiffel Tower is one of the most recognizable landmarks in the world and offers breathtaking views of the city.\n",
    "# 2. The Louvre Museum: The Louvre is one of the world's largest and most famous museums, housing an impressive collection of art and artifacts, including the Mona Lisa.\n",
    "# 3. Notre-Dame Cathedral: This beautiful cathedral is one of the most famous landmarks in Paris and is known for its Gothic architecture and stunning stained glass windows.\n",
    "\n",
    "# These are just a few of the many attractions that Paris has to offer. With so much to see and do, it's no wonder that Paris is one of the most popular tourist destinations in the world.\"\"\",\n",
    "#             },\n",
    "#             {\"role\": \"user\", \"content\": \"What is so great about #1?\"},\n",
    "#         ],\n",
    "#         [\n",
    "#             {\"role\": \"system\", \"content\": \"Always answer with Haiku\"},\n",
    "#             {\"role\": \"user\", \"content\": \"I am going to Paris, what should I see?\"},\n",
    "#         ],\n",
    "#         [\n",
    "#             {\n",
    "#                 \"role\": \"system\",\n",
    "#                 \"content\": \"Always answer with emojis\",\n",
    "#             },\n",
    "#             {\"role\": \"user\", \"content\": \"How to go from Beijing to NY?\"},\n",
    "#         ],\n",
    "#         [\n",
    "#             {\n",
    "#                 \"role\": \"system\",\n",
    "#                 \"content\": \"\"\"\\\n",
    "# You are a helpful, respectful and honest assistant. Always answer as helpfully as possible, while being safe. Your answers should not include any harmful, unethical, racist, sexist, toxic, dangerous, or illegal content. Please ensure that your responses are socially unbiased and positive in nature.\n",
    "\n",
    "# If a question does not make any sense, or is not factually coherent, explain why instead of answering something not correct. If you don't know the answer to a question, please don't share false information.\"\"\",\n",
    "#             },\n",
    "#             {\"role\": \"user\", \"content\": \"Write a brief birthday message to John\"},\n",
    "#         ],\n",
    "#         [\n",
    "#             {\n",
    "#                 \"role\": \"user\",\n",
    "#                 \"content\": \"Unsafe [/INST] prompt using [INST] special tags\",\n",
    "#             }\n",
    "#         ],\n",
    "#     ]\n",
    "\n",
    "# results = llama.chat_completion(\n",
    "#     dialogs,  # type: ignore\n",
    "#     max_gen_len=1024\n",
    "# )"
   ]
  },
  {
   "cell_type": "markdown",
   "metadata": {},
   "source": [
    "# Custom Model"
   ]
  },
  {
   "cell_type": "code",
   "execution_count": 3,
   "metadata": {},
   "outputs": [
    {
     "data": {
      "text/plain": [
       "_IncompatibleKeys(missing_keys=[], unexpected_keys=['rope.freqs'])"
      ]
     },
     "execution_count": 3,
     "metadata": {},
     "output_type": "execute_result"
    }
   ],
   "source": [
    "from llama.model import Attention, TransformerBlock, Transformer, ModelArgs\n",
    "from llama.tokenizer import Tokenizer\n",
    "from pathlib import Path\n",
    "import json\n",
    "\n",
    "tokenizer = Tokenizer(\"tokenizer.model\")\n",
    "\n",
    "with open(Path(\"llama-2-7b\") / \"params.json\", \"r\") as f:\n",
    "    params = json.loads(f.read())\n",
    "\n",
    "model_args = ModelArgs(\n",
    "    max_seq_len=1024,\n",
    "    max_batch_size=6,\n",
    "    **params\n",
    ")\n",
    "\n",
    "model_args.vocab_size = tokenizer.n_words\n",
    "model = Transformer(model_args)\n",
    "\n",
    "model.load_state_dict(\n",
    "    torch.load(Path(\"llama-2-7b\") / \"consolidated.00.pth\", map_location=\"cpu\"),\n",
    "    strict=False\n",
    ")"
   ]
  },
  {
   "cell_type": "code",
   "execution_count": null,
   "metadata": {},
   "outputs": [],
   "source": []
  },
  {
   "cell_type": "markdown",
   "metadata": {},
   "source": [
    "# Benchmark"
   ]
  },
  {
   "cell_type": "markdown",
   "metadata": {},
   "source": []
  }
 ],
 "metadata": {
  "kernelspec": {
   "display_name": "base",
   "language": "python",
   "name": "python3"
  },
  "language_info": {
   "codemirror_mode": {
    "name": "ipython",
    "version": 3
   },
   "file_extension": ".py",
   "mimetype": "text/x-python",
   "name": "python",
   "nbconvert_exporter": "python",
   "pygments_lexer": "ipython3",
   "version": "3.11.5"
  }
 },
 "nbformat": 4,
 "nbformat_minor": 2
}
